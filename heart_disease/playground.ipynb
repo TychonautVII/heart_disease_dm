{
 "cells": [
  {
   "cell_type": "code",
   "execution_count": 1,
   "metadata": {},
   "outputs": [],
   "source": [
    "import numpy as np\n",
    "import logging\n",
    "import matplotlib.pyplot as plt\n",
    "plt.style.use('fivethirtyeight')\n",
    "import heart_disease.plotting as hdp\n",
    "import heart_disease.preprocessing as pre_proc\n",
    "import seaborn as sns\n",
    "import pandas as pd\n",
    "from copy import deepcopy as cp\n",
    "%load_ext autoreload\n",
    "\n",
    "from heart_disease.globals import code_path_str, raw_data_path_str, processed_data_path_str\n",
    "\n",
    "\n",
    "from sklearn.pipeline import Pipeline\n",
    "from sklearn.linear_model import perceptron\n",
    "from sklearn.neighbors import KNeighborsClassifier\n",
    "from sklearn.naive_bayes import GaussianNB\n",
    "from sklearn.svm import SVC\n",
    "\n",
    "from sklearn.model_selection import learning_curve, ShuffleSplit, StratifiedShuffleSplit\n",
    "\n",
    "%autoreload 2"
   ]
  },
  {
   "cell_type": "code",
   "execution_count": 2,
   "metadata": {},
   "outputs": [
    {
     "data": {
      "text/html": [
       "<div>\n",
       "<style>\n",
       "    .dataframe thead tr:only-child th {\n",
       "        text-align: right;\n",
       "    }\n",
       "\n",
       "    .dataframe thead th {\n",
       "        text-align: left;\n",
       "    }\n",
       "\n",
       "    .dataframe tbody tr th {\n",
       "        vertical-align: top;\n",
       "    }\n",
       "</style>\n",
       "<table border=\"1\" class=\"dataframe\">\n",
       "  <thead>\n",
       "    <tr style=\"text-align: right;\">\n",
       "      <th></th>\n",
       "      <th>name</th>\n",
       "      <th>datatype</th>\n",
       "      <th>description</th>\n",
       "      <th>id</th>\n",
       "    </tr>\n",
       "  </thead>\n",
       "  <tbody>\n",
       "    <tr>\n",
       "      <th>0</th>\n",
       "      <td>age</td>\n",
       "      <td>numeric</td>\n",
       "      <td>age in years</td>\n",
       "      <td>3</td>\n",
       "    </tr>\n",
       "    <tr>\n",
       "      <th>1</th>\n",
       "      <td>sex</td>\n",
       "      <td>bool</td>\n",
       "      <td>sex (1 = male; 0 = female)</td>\n",
       "      <td>4</td>\n",
       "    </tr>\n",
       "    <tr>\n",
       "      <th>2</th>\n",
       "      <td>cp</td>\n",
       "      <td>categorical</td>\n",
       "      <td>chest pain type\\r   -- Value 1: typical angina...</td>\n",
       "      <td>9</td>\n",
       "    </tr>\n",
       "    <tr>\n",
       "      <th>3</th>\n",
       "      <td>trestbps</td>\n",
       "      <td>numeric</td>\n",
       "      <td>resting blood pressure (in mm Hg on admission ...</td>\n",
       "      <td>10</td>\n",
       "    </tr>\n",
       "    <tr>\n",
       "      <th>4</th>\n",
       "      <td>chol</td>\n",
       "      <td>numeric</td>\n",
       "      <td>serum cholestoral</td>\n",
       "      <td>12</td>\n",
       "    </tr>\n",
       "  </tbody>\n",
       "</table>\n",
       "</div>"
      ],
      "text/plain": [
       "       name     datatype                                        description  \\\n",
       "0       age      numeric                                       age in years   \n",
       "1       sex         bool                         sex (1 = male; 0 = female)   \n",
       "2        cp  categorical  chest pain type\\r   -- Value 1: typical angina...   \n",
       "3  trestbps      numeric  resting blood pressure (in mm Hg on admission ...   \n",
       "4      chol      numeric                                  serum cholestoral   \n",
       "\n",
       "   id  \n",
       "0   3  \n",
       "1   4  \n",
       "2   9  \n",
       "3  10  \n",
       "4  12  "
      ]
     },
     "execution_count": 2,
     "metadata": {},
     "output_type": "execute_result"
    }
   ],
   "source": [
    "# Get Metadata\n",
    "meta_data_df = pd.read_csv(processed_data_path_str+'meta_data.csv')\n",
    "meta_data_df.head()"
   ]
  },
  {
   "cell_type": "code",
   "execution_count": 11,
   "metadata": {},
   "outputs": [],
   "source": [
    "# Import Raw Data\n",
    "data_file_name_str = 'processed.switzerland.data.txt'\n",
    "data_df = pre_proc.load_raw_data(raw_data_path_str+data_file_name_str,processed_data_path_str+'meta_data.csv')\n",
    "data_df.head()\n",
    "\n",
    "X = np.array(data_df.iloc[:,:-1])\n",
    "y = np.array(data_df['ispos_truth'])"
   ]
  },
  {
   "cell_type": "code",
   "execution_count": 12,
   "metadata": {
    "collapsed": true
   },
   "outputs": [],
   "source": [
    "pre_proc.stratified_split_off_validation(data_df, \n",
    "                                         processed_data_path_str, \n",
    "                                         name = 'va')"
   ]
  },
  {
   "cell_type": "code",
   "execution_count": null,
   "metadata": {
    "collapsed": true
   },
   "outputs": [],
   "source": []
  },
  {
   "cell_type": "raw",
   "metadata": {},
   "source": [
    "full_pipe = Pipeline([\n",
    "    ('cleaner', pre_proc.DataCleaner(code_path_str+'meta_data.csv').CleaningPipeline ),\n",
    "    ('classifier',   SVC()),\n",
    "    ])\n"
   ]
  },
  {
   "cell_type": "raw",
   "metadata": {},
   "source": [
    "cv = ShuffleSplit(n_splits=100, test_size=0.2, random_state=0)\n",
    "hdp.plot_learning_curve(full_pipe, 'test', data_df, data_df['ispos_truth'], ylim=(0.6, 1.01), cv=cv, n_jobs=4,\n",
    "                    train_sizes=np.linspace(.1, 0.9, 10))\n",
    "plt.show()"
   ]
  },
  {
   "cell_type": "code",
   "execution_count": null,
   "metadata": {
    "collapsed": true
   },
   "outputs": [],
   "source": []
  }
 ],
 "metadata": {
  "kernelspec": {
   "display_name": "Python 3",
   "language": "python",
   "name": "python3"
  },
  "language_info": {
   "codemirror_mode": {
    "name": "ipython",
    "version": 3
   },
   "file_extension": ".py",
   "mimetype": "text/x-python",
   "name": "python",
   "nbconvert_exporter": "python",
   "pygments_lexer": "ipython3",
   "version": "3.6.2"
  }
 },
 "nbformat": 4,
 "nbformat_minor": 2
}
